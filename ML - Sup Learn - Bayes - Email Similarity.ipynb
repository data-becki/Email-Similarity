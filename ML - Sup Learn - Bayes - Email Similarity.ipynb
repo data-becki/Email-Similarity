{
 "cells": [
  {
   "cell_type": "markdown",
   "id": "1ba92b07",
   "metadata": {},
   "source": [
    "## Email Similarity\n",
    "\n",
    "In this project, you will use scikit-learn’s **Naive Bayes** implementation on several different datasets. By reporting the accuracy of the classifier, we can find which datasets are harder to distinguish. For example, how difficult do you think it is to distinguish the difference between emails about hockey and emails about soccer? How hard is it to tell the difference between emails about hockey and emails about tech? In this project, we’ll find out exactly how difficult those two tasks are."
   ]
  },
  {
   "cell_type": "code",
   "execution_count": 1,
   "id": "94fc4613",
   "metadata": {},
   "outputs": [],
   "source": [
    "from sklearn.datasets import fetch_20newsgroups\n",
    "from sklearn.naive_bayes import MultinomialNB\n",
    "from sklearn.feature_extraction.text import CountVectorizer\n",
    "\n",
    "emails = fetch_20newsgroups()"
   ]
  },
  {
   "cell_type": "markdown",
   "id": "2b320857",
   "metadata": {},
   "source": [
    "1. We’ve imported a dataset of emails from scikit-learn’s datasets. All of these emails are tagged based on their content.\n",
    "\n",
    "    Print `emails.target_names` to see the different categories.\n"
   ]
  },
  {
   "cell_type": "markdown",
   "id": "92537a14",
   "metadata": {},
   "source": [
    "## Exploring the Data"
   ]
  },
  {
   "cell_type": "code",
   "execution_count": 2,
   "id": "f70814b5",
   "metadata": {},
   "outputs": [
    {
     "name": "stdout",
     "output_type": "stream",
     "text": [
      "['alt.atheism', 'comp.graphics', 'comp.os.ms-windows.misc', 'comp.sys.ibm.pc.hardware', 'comp.sys.mac.hardware', 'comp.windows.x', 'misc.forsale', 'rec.autos', 'rec.motorcycles', 'rec.sport.baseball', 'rec.sport.hockey', 'sci.crypt', 'sci.electronics', 'sci.med', 'sci.space', 'soc.religion.christian', 'talk.politics.guns', 'talk.politics.mideast', 'talk.politics.misc', 'talk.religion.misc']\n"
     ]
    }
   ],
   "source": [
    "print(emails.target_names)"
   ]
  },
  {
   "cell_type": "markdown",
   "id": "0c1f7f0e",
   "metadata": {},
   "source": [
    "2. We’re interested in seeing how effective our Naive Bayes classifier is at telling the difference between a baseball email and a hockey email. We can select the categories of articles we want from `fetch_20newsgroups` by adding the parameter `categories`.\n",
    "\n",
    "    In the function call, set `categories` equal to the list `['rec.sport.baseball', 'rec.sport.hockey']`\n"
   ]
  },
  {
   "cell_type": "code",
   "execution_count": 3,
   "id": "75a5f1e4",
   "metadata": {},
   "outputs": [],
   "source": [
    "emails = fetch_20newsgroups(categories = ['rec.sport.baseball', 'rec.sport.hockey'])"
   ]
  },
  {
   "cell_type": "markdown",
   "id": "23a485df",
   "metadata": {},
   "source": [
    "3. Let’s take a look at one of these emails.\n",
    "\n",
    "    All of the emails are stored in a list called `emails.data`. Print the email at index `5` in the list.\n"
   ]
  },
  {
   "cell_type": "code",
   "execution_count": 4,
   "id": "45dad2bc",
   "metadata": {},
   "outputs": [
    {
     "name": "stdout",
     "output_type": "stream",
     "text": [
      "From: mmb@lamar.ColoState.EDU (Michael Burger)\n",
      "Subject: More TV Info\n",
      "Distribution: na\n",
      "Nntp-Posting-Host: lamar.acns.colostate.edu\n",
      "Organization: Colorado State University, Fort Collins, CO  80523\n",
      "Lines: 36\n",
      "\n",
      "United States Coverage:\n",
      "Sunday April 18\n",
      "  N.J./N.Y.I. at Pittsburgh - 1:00 EDT to Eastern Time Zone\n",
      "  ABC - Gary Thorne and Bill Clement\n",
      "\n",
      "  St. Louis at Chicago - 12:00 CDT and 11:00 MDT - to Central/Mountain Zones\n",
      "  ABC - Mike Emerick and Jim Schoenfeld\n",
      "\n",
      "  Los Angeles at Calgary - 12:00 PDT and 11:00 ADT - to Pacific/Alaskan Zones\n",
      "  ABC - Al Michaels and John Davidson\n",
      "\n",
      "Tuesday, April 20\n",
      "  N.J./N.Y.I. at Pittsburgh - 7:30 EDT Nationwide\n",
      "  ESPN - Gary Thorne and Bill Clement\n",
      "\n",
      "Thursday, April 22 and Saturday April 24\n",
      "  To Be Announced - 7:30 EDT Nationwide\n",
      "  ESPN - To Be Announced\n",
      "\n",
      "\n",
      "Canadian Coverage:\n",
      "\n",
      "Sunday, April 18\n",
      "  Buffalo at Boston - 7:30 EDT Nationwide\n",
      "  TSN - ???\n",
      "\n",
      "Tuesday, April 20\n",
      "  N.J.D./N.Y. at Pittsburgh - 7:30 EDT Nationwide\n",
      "  TSN - ???\n",
      "\n",
      "Wednesday, April 21\n",
      "  St. Louis at Chicago - 8:30 EDT Nationwide\n",
      "  TSN - ???\n",
      "\n",
      "\n",
      "\n",
      "\n"
     ]
    }
   ],
   "source": [
    "print(emails.data[5])"
   ]
  },
  {
   "cell_type": "markdown",
   "id": "4b9b9cf2",
   "metadata": {},
   "source": [
    "4. All of the labels can be found in the list `emails.target`. Print the label of the email at index `5`.\n",
    "\n",
    "    The labels themselves are numbers, but those numbers correspond to the label names found at `emails.target_names`.\n",
    "\n",
    "    Is this a baseball email or a hockey email?"
   ]
  },
  {
   "cell_type": "code",
   "execution_count": 5,
   "id": "7ad81166",
   "metadata": {
    "scrolled": true
   },
   "outputs": [
    {
     "name": "stdout",
     "output_type": "stream",
     "text": [
      "1\n",
      "rec.sport.hockey\n"
     ]
    }
   ],
   "source": [
    "print(emails.target[5])\n",
    "print(emails.target_names[1])"
   ]
  },
  {
   "cell_type": "markdown",
   "id": "86a08d59",
   "metadata": {},
   "source": [
    "## Making the Training and Test Sets"
   ]
  },
  {
   "cell_type": "markdown",
   "id": "f063cc22",
   "metadata": {},
   "source": [
    "5. We now want to split our data into training and test sets. Change the name of your variable from `emails` to `train_emails`. Add these three parameters to the function call:\n",
    "\n",
    "    - `subset='train'`\n",
    "    - `shuffle = True`\n",
    "    - `random_state = 108`\n",
    "\n",
    "Adding the `random_state` parameter will make sure that every time you run the code, your dataset is split in the same way.\n"
   ]
  },
  {
   "cell_type": "code",
   "execution_count": 6,
   "id": "f6b75f3c",
   "metadata": {},
   "outputs": [],
   "source": [
    "train_emails = fetch_20newsgroups(categories = ['rec.sport.baseball', 'rec.sport.hockey'], subset = 'train', shuffle = True, random_state = 108)"
   ]
  },
  {
   "cell_type": "markdown",
   "id": "9743fde0",
   "metadata": {},
   "source": [
    "6. Create another variable named `test_emails` and set it equal to `fetch_20newsgroups`. The parameters of the function should be the same as before except `subset` should now be `'test'`."
   ]
  },
  {
   "cell_type": "code",
   "execution_count": 7,
   "id": "d16177f2",
   "metadata": {},
   "outputs": [],
   "source": [
    "test_emails = fetch_20newsgroups(categories = ['rec.sport.baseball', 'rec.sport.hockey'], subset = 'test', shuffle = True, random_state = 108)"
   ]
  },
  {
   "cell_type": "markdown",
   "id": "150cace8",
   "metadata": {},
   "source": [
    "## Counting Words"
   ]
  },
  {
   "cell_type": "markdown",
   "id": "f748491c",
   "metadata": {},
   "source": [
    "7. We want to transform these emails into lists of word counts. The `CountVectorizer` class makes this easy for us.\n",
    "\n",
    "    Create a `CountVectorizer` object and name it `counter`.\n"
   ]
  },
  {
   "cell_type": "code",
   "execution_count": 8,
   "id": "04c46c99",
   "metadata": {},
   "outputs": [],
   "source": [
    "counter = CountVectorizer()"
   ]
  },
  {
   "cell_type": "markdown",
   "id": "56ca9208",
   "metadata": {},
   "source": [
    "8. We need to tell counter what possible words can exist in our emails. counter has a `.fit()` a function that takes a list of all your data.\n",
    "\n",
    "    Call `.fit()` with `test_emails.data + train_emails.data` as a parameter.\n"
   ]
  },
  {
   "cell_type": "code",
   "execution_count": 9,
   "id": "9eda35d4",
   "metadata": {},
   "outputs": [
    {
     "data": {
      "text/plain": [
       "CountVectorizer()"
      ]
     },
     "execution_count": 9,
     "metadata": {},
     "output_type": "execute_result"
    }
   ],
   "source": [
    "counter.fit(test_emails.data + train_emails.data)"
   ]
  },
  {
   "cell_type": "markdown",
   "id": "af60e7a0",
   "metadata": {},
   "source": [
    "8. We can now make a list of the counts of our words in our training set.\n",
    "\n",
    "    Create a variable named `train_counts`. Set it equal to `counter`‘s `transform` function using `train_emails.data` as a parameter.\n"
   ]
  },
  {
   "cell_type": "code",
   "execution_count": 10,
   "id": "94346ac7",
   "metadata": {},
   "outputs": [],
   "source": [
    "train_counts = counter.transform(train_emails.data)"
   ]
  },
  {
   "cell_type": "markdown",
   "id": "d3276c2d",
   "metadata": {},
   "source": [
    "10. Let’s also make a variable named `test_counts`. This should be the same function call as before, but use `test_emails.data` as the parameter of `transform`.\n"
   ]
  },
  {
   "cell_type": "code",
   "execution_count": 11,
   "id": "f3ff6520",
   "metadata": {},
   "outputs": [],
   "source": [
    "test_counts = counter.transform(test_emails.data)"
   ]
  },
  {
   "cell_type": "markdown",
   "id": "20213658",
   "metadata": {},
   "source": [
    "## Making a Naive Bayes Classifier"
   ]
  },
  {
   "cell_type": "markdown",
   "id": "4ff6498b",
   "metadata": {},
   "source": [
    "11. Let’s now make a Naive Bayes classifier that we can train and test on. Create a `MultinomialNB` object named `classifier`."
   ]
  },
  {
   "cell_type": "code",
   "execution_count": 12,
   "id": "b4a5b268",
   "metadata": {},
   "outputs": [],
   "source": [
    "classifier = MultinomialNB()"
   ]
  },
  {
   "cell_type": "markdown",
   "id": "d0914b33",
   "metadata": {},
   "source": [
    "12. Call `classifier`‘s `.fit()` function. `.fit()` takes two parameters. The first should be our training set, which for us is `train_counts`. The second should be the labels associated with the training emails. Those are found in `train_emails.target`."
   ]
  },
  {
   "cell_type": "code",
   "execution_count": 13,
   "id": "c47d51e2",
   "metadata": {},
   "outputs": [
    {
     "data": {
      "text/plain": [
       "MultinomialNB()"
      ]
     },
     "execution_count": 13,
     "metadata": {},
     "output_type": "execute_result"
    }
   ],
   "source": [
    "classifier.fit(train_counts, train_emails.target)"
   ]
  },
  {
   "cell_type": "markdown",
   "id": "d07d0d52",
   "metadata": {},
   "source": [
    "13. Test the Naive Bayes Classifier by printing classifier‘s `.score()` function. `.score()` takes the test set and the test labels as parameters.\n",
    "\n",
    "    `.score()` returns the accuracy of the classifier on the test data. Accuracy measures the percentage of classifications a classifier correctly made.\n"
   ]
  },
  {
   "cell_type": "code",
   "execution_count": 14,
   "id": "f354c793",
   "metadata": {},
   "outputs": [
    {
     "data": {
      "text/plain": [
       "0.9723618090452262"
      ]
     },
     "execution_count": 14,
     "metadata": {},
     "output_type": "execute_result"
    }
   ],
   "source": [
    "classifier.score(test_counts, test_emails.target)"
   ]
  },
  {
   "cell_type": "markdown",
   "id": "e0e693c9",
   "metadata": {},
   "source": [
    "## Testing Other Datasets"
   ]
  },
  {
   "cell_type": "markdown",
   "id": "dfc4e574",
   "metadata": {},
   "source": [
    "14. Our classifier does a pretty good job distinguishing between soccer emails and hockey emails. But let’s see how it does with emails about really different topics.\n",
    "\n",
    "    Find where you created `train_emails` and `test_emails`. Change the categories to be `['comp.sys.ibm.pc.hardware','rec.sport.hockey']`.\n",
    "\n",
    "    Did your classifier do a better or worse job on these two datasets?\n"
   ]
  },
  {
   "cell_type": "code",
   "execution_count": 15,
   "id": "d70fde6e",
   "metadata": {
    "scrolled": true
   },
   "outputs": [
    {
     "name": "stdout",
     "output_type": "stream",
     "text": [
      "0.9974715549936789\n"
     ]
    }
   ],
   "source": [
    "train_emails = fetch_20newsgroups(categories = ['comp.sys.ibm.pc.hardware','rec.sport.hockey'], subset = 'train', shuffle = True, random_state = 108)\n",
    "\n",
    "test_emails = fetch_20newsgroups(categories = ['comp.sys.ibm.pc.hardware','rec.sport.hockey'], subset = 'test', shuffle = True, random_state = 108)\n",
    "\n",
    "counter = CountVectorizer()\n",
    "counter.fit(test_emails.data + train_emails.data)\n",
    "\n",
    "train_counts = counter.transform(train_emails.data)\n",
    "\n",
    "test_counts = counter.transform(test_emails.data)\n",
    "\n",
    "classifier = MultinomialNB()\n",
    "classifier.fit(train_counts, train_emails.target)\n",
    "print(classifier.score(test_counts, test_emails.target))\n"
   ]
  },
  {
   "cell_type": "markdown",
   "id": "ab809145",
   "metadata": {},
   "source": [
    "*It does a better job.*"
   ]
  },
  {
   "cell_type": "markdown",
   "id": "5af71eae",
   "metadata": {},
   "source": [
    "15. Play around with different sets of data. Can you find a set that’s incredibly accurate or incredibly inaccurate?\n",
    "\n",
    "The possible categories are listed below.\n",
    "\n",
    "-    `'alt.atheism'`\n",
    "-    `'comp.graphics'`\n",
    "-    `'comp.os.ms-windows.misc'`\n",
    "-    `'comp.sys.ibm.pc.hardware'`\n",
    "-    `'comp.sys.mac.hardware'`\n",
    "-    `'comp.windows.x'`\n",
    "-    `'misc.forsale'`\n",
    "-    `'rec.autos'`\n",
    "-    `'rec.motorcycles'`\n",
    "-    `'rec.sport.baseball'`\n",
    "-    `'rec.sport.hockey'`\n",
    "-    `'sci.crypt'`\n",
    "-    `'sci.electronics'`\n",
    "-    `'sci.med'`\n",
    "-    `'sci.space'`\n",
    "-    `'soc.religion.christian'`\n",
    "-    `'talk.politics.guns'`\n",
    "-    `'talk.politics.mideast'`\n",
    "-    `'talk.politics.misc'`\n",
    "-    `'talk.religion.misc'`\n"
   ]
  },
  {
   "cell_type": "code",
   "execution_count": 16,
   "id": "96d45b74",
   "metadata": {},
   "outputs": [
    {
     "name": "stdout",
     "output_type": "stream",
     "text": [
      "0.9428208386277002\n"
     ]
    }
   ],
   "source": [
    "train_emails = fetch_20newsgroups(categories = ['comp.windows.x','comp.sys.ibm.pc.hardware'], subset = 'train', shuffle = True, random_state = 108)\n",
    "\n",
    "test_emails = fetch_20newsgroups(categories = ['comp.windows.x','comp.sys.ibm.pc.hardware'], subset = 'test', shuffle = True, random_state = 108)\n",
    "\n",
    "counter = CountVectorizer()\n",
    "counter.fit(test_emails.data + train_emails.data)\n",
    "\n",
    "train_counts = counter.transform(train_emails.data)\n",
    "\n",
    "test_counts = counter.transform(test_emails.data)\n",
    "\n",
    "classifier = MultinomialNB()\n",
    "classifier.fit(train_counts, train_emails.target)\n",
    "print(classifier.score(test_counts, test_emails.target))\n"
   ]
  },
  {
   "cell_type": "markdown",
   "id": "136852fb",
   "metadata": {},
   "source": [
    "- `['rec.autos','rec.motorcycles']` = 97%\n",
    "- `['soc.religion.christian','talk.politics.guns']` = 99%\n",
    "- `['comp.windows.x','talk.politics.mideast']` = 99%\n",
    "- `['comp.windows.x','comp.sys.ibm.pc.hardware']` = 94%"
   ]
  }
 ],
 "metadata": {
  "kernelspec": {
   "display_name": "Python 3 (ipykernel)",
   "language": "python",
   "name": "python3"
  },
  "language_info": {
   "codemirror_mode": {
    "name": "ipython",
    "version": 3
   },
   "file_extension": ".py",
   "mimetype": "text/x-python",
   "name": "python",
   "nbconvert_exporter": "python",
   "pygments_lexer": "ipython3",
   "version": "3.9.7"
  }
 },
 "nbformat": 4,
 "nbformat_minor": 5
}
